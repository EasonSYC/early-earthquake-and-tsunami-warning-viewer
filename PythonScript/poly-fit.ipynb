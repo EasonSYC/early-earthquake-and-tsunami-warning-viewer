{
 "cells": [
  {
   "cell_type": "markdown",
   "metadata": {},
   "source": [
    "# Polynomial fitting for $f: [0, 1] \\to \\mathcal{C}$"
   ]
  },
  {
   "cell_type": "code",
   "execution_count": 1,
   "metadata": {},
   "outputs": [],
   "source": [
    "from PIL import Image, PyAccess # for image reading\n",
    "import matplotlib.pyplot as plt # to plot graphs\n",
    "from scipy import optimize # to do fitting\n",
    "\n",
    "plt.rcParams['text.usetex'] = True # LaTeX in plots\n",
    "plt.rcParams['mathtext.fontset'] = 'stix'\n",
    "plt.rcParams['font.family'] = 'STIXGeneral'"
   ]
  },
  {
   "cell_type": "markdown",
   "metadata": {},
   "source": [
    "## Plot $C = (H, S, V)$"
   ]
  },
  {
   "cell_type": "code",
   "execution_count": null,
   "metadata": {},
   "outputs": [],
   "source": [
    "orig_img_path: str = 'jma-scale.png'\n",
    "orig_img: Image.Image = Image.open(orig_img_path) # read original image\n",
    "\n",
    "orig_img_hsv: Image.Image = orig_img.convert('HSV') # convert to HSV colour format\n",
    "\n",
    "img_width: int\n",
    "img_height: int\n",
    "img_width, img_height = orig_img.size # get size of image\n",
    "\n",
    "img_width, img_height"
   ]
  },
  {
   "cell_type": "code",
   "execution_count": null,
   "metadata": {},
   "outputs": [],
   "source": [
    "# read the (H, S, V) in a fixed column\n",
    "\n",
    "column: int = 5\n",
    "hsv_list: list[tuple[int, int, int]] = [(orig_img_hsv.getpixel((column, y))) for y in range(img_height)] # type: ignore\n",
    "\n",
    "hsv_list"
   ]
  },
  {
   "cell_type": "markdown",
   "metadata": {},
   "source": [
    "### Plot $f_H, f_S, f_V$ against $r$"
   ]
  },
  {
   "cell_type": "code",
   "execution_count": 4,
   "metadata": {},
   "outputs": [],
   "source": [
    "r_list: list[int] = list(range(img_height))\n",
    "\n",
    "# split up list into separate lists\n",
    "\n",
    "hsv_h_list: list[int] = [c[0] for c in hsv_list]\n",
    "hsv_s_list: list[int] = [c[1] for c in hsv_list]\n",
    "hsv_v_list: list[int] = [c[2] for c in hsv_list]"
   ]
  },
  {
   "cell_type": "code",
   "execution_count": 5,
   "metadata": {},
   "outputs": [],
   "source": [
    "# setup options for plotting graphs\n",
    "\n",
    "marker_size: int = 15\n",
    "marker_char: str = 'x'\n",
    "line_width: float = 0.3\n",
    "\n",
    "fig_size: tuple[int, int] = (10, 5)\n",
    "\n",
    "h_colour: str = 'turquoise'\n",
    "s_colour: str = 'gold'\n",
    "v_colour: str = 'gray'\n",
    "\n",
    "h_label: str = 'Hue $H$'\n",
    "s_label: str = 'Saturation $S$'\n",
    "v_label: str = 'Value $V$'"
   ]
  },
  {
   "cell_type": "code",
   "execution_count": 6,
   "metadata": {},
   "outputs": [],
   "source": [
    "def init_plt(xlabel: str, ylabel: str, title: str) -> None:\n",
    "    plt.figure(figsize = fig_size)\n",
    "    plt.xlabel(xlabel)\n",
    "    plt.ylabel(ylabel)\n",
    "    plt.title(title)\n",
    "    plt.grid(True)\n",
    "    plt.tight_layout()"
   ]
  },
  {
   "cell_type": "code",
   "execution_count": null,
   "metadata": {},
   "outputs": [],
   "source": [
    "# plot graph of (H, S, V) against r\n",
    "\n",
    "init_plt('Row Number $r$', '$(H, S, V)$ Values', f'$(H, S, V)$ Values against Row Number $r$ along column {column}')\n",
    "\n",
    "plt.scatter(r_list, hsv_h_list, label=h_label, color=h_colour, s=marker_size, marker=marker_char, linewidths=line_width)\n",
    "plt.scatter(r_list, hsv_s_list, label=s_label, color=s_colour, s=marker_size, marker=marker_char, linewidths=line_width)\n",
    "plt.scatter(r_list, hsv_v_list, label=v_label, color=v_colour, s=marker_size, marker=marker_char, linewidths=line_width)\n",
    "\n",
    "plt.legend()\n",
    "\n",
    "plt.savefig('hsv-against-row.png')"
   ]
  },
  {
   "cell_type": "code",
   "execution_count": 8,
   "metadata": {},
   "outputs": [],
   "source": [
    "plt.close()"
   ]
  },
  {
   "cell_type": "markdown",
   "metadata": {},
   "source": [
    "### Plot $f_H, f_S, f_V$ against $h$"
   ]
  },
  {
   "cell_type": "code",
   "execution_count": null,
   "metadata": {},
   "outputs": [],
   "source": [
    "# setup the initial values for h and r\n",
    "\n",
    "h_0 = 18\n",
    "h_1 = 296 + 1\n",
    "r_len = h_1 - h_0\n",
    "\n",
    "def r_to_h(r: int) -> float:\n",
    "    return 1 - ((r - h_0) / (r_len - 1))\n",
    "\n",
    "h_list: list[float] = [r_to_h(r) for r in r_list] # convert list of r to list of h\n",
    "\n",
    "h_r_list: list[float] = h_list[h_0:h_1] # extract the values of h within range\n",
    "\n",
    "hsv_h_r_list: list[int] = hsv_h_list[h_0:h_1] # extract the values of (H, S, V) within range\n",
    "hsv_s_r_list: list[int] = hsv_s_list[h_0:h_1]\n",
    "hsv_v_r_list: list[int] = hsv_v_list[h_0:h_1]\n",
    "\n",
    "h_r_list"
   ]
  },
  {
   "cell_type": "code",
   "execution_count": null,
   "metadata": {},
   "outputs": [],
   "source": [
    "# plot graph of (H, S, V) against h\n",
    "\n",
    "init_plt('$h$', '$(H, S, V)$ Values', f'$(H, S, V)$ Values against $h$ along column {column}')\n",
    "\n",
    "plt.scatter(h_r_list, hsv_h_r_list, label=h_label, color=h_colour, s=marker_size, marker=marker_char, linewidth=line_width)\n",
    "plt.scatter(h_r_list, hsv_s_r_list, label=s_label, color=s_colour, s=marker_size, marker=marker_char, linewidth=line_width)\n",
    "plt.scatter(h_r_list, hsv_v_r_list, label=v_label, color=v_colour, s=marker_size, marker=marker_char, linewidth=line_width)\n",
    "\n",
    "plt.legend()\n",
    "\n",
    "plt.savefig('hsv-against-h.png')"
   ]
  },
  {
   "cell_type": "code",
   "execution_count": 11,
   "metadata": {},
   "outputs": [],
   "source": [
    "plt.close()"
   ]
  },
  {
   "cell_type": "markdown",
   "metadata": {},
   "source": [
    "## Regression"
   ]
  },
  {
   "cell_type": "markdown",
   "metadata": {},
   "source": [
    "### Prepare Lists to do Regression"
   ]
  },
  {
   "cell_type": "code",
   "execution_count": 12,
   "metadata": {},
   "outputs": [],
   "source": [
    "# normalise values of h, s, v to our desired values\n",
    "\n",
    "hsv_h_n_list: list[float] = [hsv_h_r_list[i] / 255 * 360 for i in range(279)]\n",
    "hsv_s_n_list: list[float] = [hsv_s_r_list[i] / 255 * 1 for i in range(279)]\n",
    "hsv_v_n_list: list[float] = [hsv_v_r_list[i] / 255 * 1 for i in range(279)]"
   ]
  },
  {
   "cell_type": "markdown",
   "metadata": {},
   "source": [
    "### Regression on $f_H$"
   ]
  },
  {
   "cell_type": "code",
   "execution_count": 13,
   "metadata": {},
   "outputs": [],
   "source": [
    "# define f_H with unkwnown parameters y_1, y_2 which operates on a list\n",
    "\n",
    "def f_h_params(xl: list[float], y_1: float, y_2: float) -> list[float]:\n",
    "    yl: list[float] = [0 for _ in xl]\n",
    "    for i, x in enumerate(xl):\n",
    "        if 0 <= x <= 0.1:\n",
    "            yl[i] =  -150 * x + 237\n",
    "        elif 0.1 <= x <= 0.6:\n",
    "            yl[i] = (\n",
    "                ((222  * (x - 0.3) * (x - 0.4) * (x - 0.6)) / ((0.1 - 0.3) * (0.1 - 0.4) * (0.1 - 0.6))) +\n",
    "                ((y_1 * (x - 0.1) * (x - 0.4) * (x - 0.6)) / ((0.3 - 0.1) * (0.3 - 0.4) * (0.3 - 0.6))) +\n",
    "                ((y_2 * (x - 0.1) * (x - 0.3) * (x - 0.6)) / ((0.4 - 0.1) * (0.4 - 0.3) * (0.4 - 0.6))) +\n",
    "                ((51   * (x - 0.1) * (x - 0.3) * (x - 0.4)) / ((0.6 - 0.1) * (0.6 - 0.3) * (0.6 - 0.4)))\n",
    "            )\n",
    "        elif 0.6 <= x <= 0.9:\n",
    "            yl[i] = -170 * x + 153\n",
    "        elif 0.9 <= x <= 1:\n",
    "            yl[i] = 0\n",
    "        else:\n",
    "            yl[i] = 0\n",
    "    return yl"
   ]
  },
  {
   "cell_type": "code",
   "execution_count": null,
   "metadata": {},
   "outputs": [],
   "source": [
    "h_init: list[int] = [0, 0] # initial guess to indicate number of paameters\n",
    "\n",
    "h_params: list[int]\n",
    "\n",
    "h_params, _ = optimize.curve_fit(f_h_params, h_r_list, hsv_h_n_list, p0=h_init) # optimised parameters\n",
    "\n",
    "h_params"
   ]
  },
  {
   "cell_type": "code",
   "execution_count": 15,
   "metadata": {},
   "outputs": [],
   "source": [
    "def f_h(x) -> list[float]: # this is a partial function which gives in the fitted parameters\n",
    "    return f_h_params(x, *h_params)\n",
    "\n",
    "h_p_list: list[float] = [i / 1000 for i in range(0, 1001, 1)] # list to make sure the plotted graph looks quite smooth\n",
    "hsv_h_fitted_list: list[float] = f_h(h_p_list) # fitted line"
   ]
  },
  {
   "cell_type": "code",
   "execution_count": 16,
   "metadata": {},
   "outputs": [],
   "source": [
    "line_width = 1.25 # make the markers look a bit thicker"
   ]
  },
  {
   "cell_type": "code",
   "execution_count": null,
   "metadata": {},
   "outputs": [],
   "source": [
    "# plot result of fit\n",
    "\n",
    "init_plt('$h$', h_label, '$H$ against $h$')\n",
    "\n",
    "plt.scatter(h_r_list, hsv_h_n_list, label=h_label, color=h_colour, s=marker_size, marker=marker_char, linewidth=line_width)\n",
    "plt.plot(h_p_list, hsv_h_fitted_list, label='Fit')\n",
    "\n",
    "plt.legend()\n",
    "plt.savefig('h-against-h.png')"
   ]
  },
  {
   "cell_type": "code",
   "execution_count": 18,
   "metadata": {},
   "outputs": [],
   "source": [
    "plt.close()"
   ]
  },
  {
   "cell_type": "markdown",
   "metadata": {},
   "source": [
    "### Regression on $f_S$"
   ]
  },
  {
   "cell_type": "code",
   "execution_count": 19,
   "metadata": {},
   "outputs": [],
   "source": [
    "# define f_S\n",
    "\n",
    "def f_s(xl: list[float]) -> list[float]:\n",
    "    yl: list[float] = [0 for _ in xl]\n",
    "    for i, x in enumerate(xl):\n",
    "        if 0 <= x <= 0.2:\n",
    "            yl[i] = 1\n",
    "        elif 0.2 <= x <= 0.29:\n",
    "            yl[i] = -2.611 * x + 1.522\n",
    "        elif 0.29 <= x <= 0.4:\n",
    "            yl[i] = 1.682 * x + 0.277\n",
    "        elif 0.4 <= x <= 0.5:\n",
    "            yl[i] = 0.5 * x + 0.75\n",
    "        elif 0.5 <= x <= 1:\n",
    "            yl[i] = 1\n",
    "        else:\n",
    "            yl[i] = 0\n",
    "    return yl\n",
    "\n",
    "hsv_s_fitted_list: list[float] = f_s(h_p_list) # fitted line"
   ]
  },
  {
   "cell_type": "code",
   "execution_count": null,
   "metadata": {},
   "outputs": [],
   "source": [
    "# plot result of fit\n",
    "\n",
    "init_plt('$h$', s_label, '$S$ against $h$')\n",
    "\n",
    "plt.scatter(h_r_list, hsv_s_n_list, label=s_label, color=s_colour, s=marker_size, marker=marker_char, linewidth=line_width)\n",
    "plt.plot(h_p_list, hsv_s_fitted_list, label='Fit')\n",
    "\n",
    "plt.legend()\n",
    "plt.savefig('s-against-h.png')"
   ]
  },
  {
   "cell_type": "markdown",
   "metadata": {},
   "source": [
    "### Regression on $f_V$"
   ]
  },
  {
   "cell_type": "code",
   "execution_count": 21,
   "metadata": {},
   "outputs": [],
   "source": [
    "# define f_V\n",
    "\n",
    "def f_v(xl: list[float]) -> list[float]:\n",
    "    yl: list[float] = [0 for _ in xl]\n",
    "    for i, x in enumerate(xl):\n",
    "        if 0 <= x <= 0.1:\n",
    "            yl[i] = 1.8 * x + 0.8\n",
    "        elif 0.1 <= x <= 0.172:\n",
    "            yl[i] = -4.444 * x + 1.424\n",
    "        elif 0.172 <= x <= 0.2:\n",
    "            yl[i] = 5.714 * x - 0.323\n",
    "        elif 0.2 <= x <= 0.3:\n",
    "            yl[i] = 1.6 * x + 0.5\n",
    "        elif 0.3 <= x <= 0.4:\n",
    "            yl[i] = 0.2 * x + 0.92\n",
    "        elif 0.4 <= x <= 0.8:\n",
    "            yl[i] = 1\n",
    "        elif 0.8 <= x <= 0.9:\n",
    "            yl[i] = -0.3 * x + 1.24\n",
    "        elif 0.9 <= x <= 1:\n",
    "            yl[i] = -2.9 * x + 3.58\n",
    "        else:\n",
    "            yl[i] = 0\n",
    "    return yl\n",
    "\n",
    "hsv_v_fitted_list: list[float] = f_v(h_p_list) # fitted line"
   ]
  },
  {
   "cell_type": "code",
   "execution_count": null,
   "metadata": {},
   "outputs": [],
   "source": [
    "# plot result of fit\n",
    "\n",
    "init_plt('$h$', v_label, '$V$ against $h$')\n",
    "\n",
    "plt.scatter(h_r_list[1:r_len - 1], hsv_v_n_list[1:r_len - 1], label=v_label, color=v_colour, s=marker_size, marker=marker_char, linewidth=line_width) # the first and last points are excluded from the plot\n",
    "plt.plot(h_p_list, hsv_v_fitted_list, label='Fit')\n",
    "\n",
    "plt.legend()\n",
    "plt.savefig('v-against-h.png')"
   ]
  },
  {
   "cell_type": "markdown",
   "metadata": {},
   "source": [
    "## Back-Generate the image"
   ]
  },
  {
   "cell_type": "code",
   "execution_count": 23,
   "metadata": {},
   "outputs": [],
   "source": [
    "# setup an HSV formatted image and get its pixels\n",
    "\n",
    "image_generated: Image.Image = Image.new('HSV', (img_width, img_height))\n",
    "generated_pixels: PyAccess.PyAccess = image_generated.load() # type: ignore\n",
    "\n",
    "# returns a list of tuples of (H, S, V) for a column\n",
    "\n",
    "def f(yl: list[int]) -> list[tuple[int, int, int]]:\n",
    "    hl: list[float] = [r_to_h(y) for y in yl]\n",
    "\n",
    "    hsv_h: list[float] = f_h(hl)\n",
    "    hsv_s: list[float] = f_s(hl)\n",
    "    hsv_v: list[float] = f_v(hl)\n",
    "\n",
    "    hsv_h_i: list[int] = [int(h / 360 * 255) for h in hsv_h]\n",
    "    hsv_s_i: list[int] = [int(s * 255) for s in hsv_s]\n",
    "    hsv_v_i: list[int] = [int(v * 255) for v in hsv_v]\n",
    "\n",
    "    return [(hsv_h_i[i], hsv_s_i[i], hsv_v_i[i]) for i in yl]\n",
    "\n",
    "my_pixels: list[list[tuple[int, int, int]]] = [f(list(range(img_height))) for _ in range(img_width)]\n",
    "\n",
    "# copy this into the generated_pixels reference\n",
    "\n",
    "for x in range(img_width):\n",
    "    for y in range(img_height):\n",
    "        generated_pixels[x, y] = my_pixels[x][y]\n",
    "\n",
    "# convert to RGB and output\n",
    "\n",
    "image_generated_rgb: Image.Image = image_generated.convert('RGB')\n",
    "image_generated_rgb.save('generated-colour.png')"
   ]
  }
 ],
 "metadata": {
  "kernelspec": {
   "display_name": "Python 3",
   "language": "python",
   "name": "python3"
  },
  "language_info": {
   "codemirror_mode": {
    "name": "ipython",
    "version": 3
   },
   "file_extension": ".py",
   "mimetype": "text/x-python",
   "name": "python",
   "nbconvert_exporter": "python",
   "pygments_lexer": "ipython3",
   "version": "3.12.1"
  }
 },
 "nbformat": 4,
 "nbformat_minor": 2
}
